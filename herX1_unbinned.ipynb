{
 "cells": [
  {
   "cell_type": "markdown",
   "metadata": {},
   "source": [
    "### Install packages"
   ]
  },
  {
   "cell_type": "code",
   "execution_count": 1,
   "metadata": {},
   "outputs": [],
   "source": [
    "# Restart notebook after installing packages\n",
    "#!pip install astropy numpy"
   ]
  },
  {
   "cell_type": "markdown",
   "metadata": {},
   "source": [
    "## Load response files for each IXPE detector unit \n",
    "\n",
    "Response files taken from ixpeobssim (Baldini et al. 2022)"
   ]
  },
  {
   "cell_type": "code",
   "execution_count": 2,
   "metadata": {},
   "outputs": [],
   "source": [
    "import numpy\n",
    "from astropy.io import fits\n",
    "\n",
    "# RMF for each detector unit. \n",
    "with fits.open('ixpe_d1_obssim_v011.rmf') as hdu:\n",
    "    matrix1=hdu[1].data['MATRIX']\n",
    "    matrixt1=numpy.transpose(matrix1)\n",
    "with fits.open('ixpe_d2_obssim_v011.rmf') as hdu:\n",
    "    matrix2=hdu[1].data['MATRIX']\n",
    "    matrixt2=numpy.transpose(matrix2)\n",
    "with fits.open('ixpe_d3_obssim_v011.rmf') as hdu:\n",
    "    matrix3=hdu[1].data['MATRIX']\n",
    "    matrixt3=numpy.transpose(matrix3)\n",
    "    \n",
    "#MODF for each detector unit. \n",
    "with fits.open('ixpe_d1_obssim_mfact_v011.fits') as hdu:\n",
    "    modf_du1=hdu[1].data['SPECRESP']\n",
    "with fits.open('ixpe_d2_obssim_mfact_v011.fits') as hdu:\n",
    "    modf_du2=hdu[1].data['SPECRESP']\n",
    "with fits.open('ixpe_d3_obssim_mfact_v011.fits') as hdu:\n",
    "    modf_du3=hdu[1].data['SPECRESP']\n",
    "    \n",
    "# ARF for each detector unit. \n",
    "with fits.open('ixpe_d1_obssim_v011.arf') as hdu:\n",
    "    effae=(hdu[1].data['ENERG_LO']+hdu[1].data['ENERG_HI'])/2\n",
    "    effa_du1=hdu[1].data['SPECRESP']\n",
    "with fits.open('ixpe_d2_obssim_v011.arf') as hdu:\n",
    "    effa_du2=hdu[1].data['SPECRESP']\n",
    "with fits.open('ixpe_d3_obssim_v011.arf') as hdu:\n",
    "    effa_du3=hdu[1].data['SPECRESP']\n",
    "\n",
    "matrixtlist = [matrixt1, matrixt2, matrixt3]             \n",
    "modflist    = [modf_du1, modf_du2, modf_du3]  \n",
    "arflist     = [effa_du1, effa_du2, effa_du3]   "
   ]
  },
  {
   "cell_type": "markdown",
   "metadata": {},
   "source": [
    "## Load simulated polarimetry data from compressed files\n",
    "\n",
    "Photons simulated with ixpeobssim (Baldini et al., 2022) and model of Hercules X-1 (Caiazzo & Heyl, 2021). Photons are radomized for model with configuration angles $\\alpha=52^o$ and $\\beta=42^o$"
   ]
  },
  {
   "cell_type": "code",
   "execution_count": 3,
   "metadata": {},
   "outputs": [],
   "source": [
    "# events for each detector unit already selected in the 2-4 keV range\n",
    "\n",
    "data1=numpy.load('data_du1.npz')\n",
    "data2=numpy.load('data_du2.npz')\n",
    "data3=numpy.load('data_du3.npz')"
   ]
  },
  {
   "cell_type": "code",
   "execution_count": 4,
   "metadata": {},
   "outputs": [],
   "source": [
    "#data names as  in fits files generated with ixpeobssim\n",
    "\n",
    "qdulist   = [data1['Q'],      data2['Q'],      data3['Q']]\n",
    "udulist   = [data1['U'],      data2['U'],      data3['U']]\n",
    "edulist   = [data1['ENERGY'], data2['ENERGY'], data3['ENERGY']]\n",
    "pdulist   = [data1['PHASE'],  data2['PHASE'],  data3['PHASE']]\n",
    "phadulist = [data1['PHA'],    data2['PHA'],    data3['PHA']]\n",
    "\n",
    "pha_list=numpy.arange(0,375)"
   ]
  },
  {
   "cell_type": "markdown",
   "metadata": {},
   "source": [
    "## Rotating Vector Model and likelihood function \n",
    "\n",
    "For simplicity, we stock  all photon data and minimize the likehood function assuming equal response modf for all three detector units"
   ]
  },
  {
   "cell_type": "code",
   "execution_count": 5,
   "metadata": {},
   "outputs": [],
   "source": [
    "qok = numpy.concatenate((qdulist[0],qdulist[1],qdulist[2]))\n",
    "uok = numpy.concatenate((udulist[0],udulist[1],udulist[2]))\n",
    "pok = numpy.concatenate((pdulist[0],pdulist[1],pdulist[2]))\n",
    "eok = numpy.concatenate((edulist[0],edulist[1],edulist[2]))\n",
    "modfok = numpy.interp(eok, effae, modf_du1)"
   ]
  },
  {
   "cell_type": "code",
   "execution_count": 6,
   "metadata": {},
   "outputs": [
    {
     "name": "stdout",
     "output_type": "stream",
     "text": [
      "Solution Rotating Vector Model:\n",
      "\n",
      " alpha =    51.209\n",
      " beta =     43.005\n",
      " pos_ang =  0.042\n",
      " phase0 =   0.500\n",
      " degm =     0.495\n"
     ]
    }
   ],
   "source": [
    "from scipy.optimize import minimize\n",
    "\n",
    "def angfunk(alpha,beta,phase):\n",
    "    tanhalfC=numpy.tan(phase*numpy.pi)\n",
    "    halfamb=numpy.radians(alpha-beta)/2\n",
    "    halfapb=numpy.radians(alpha+beta)/2\n",
    "    halfAmB=numpy.arctan(numpy.sin(halfamb)/numpy.sin(halfapb)*tanhalfC)\n",
    "    halfApB=numpy.arctan(numpy.cos(halfamb)/numpy.cos(halfapb)*tanhalfC)\n",
    "    return -(halfApB-halfAmB)\n",
    "    \n",
    "def likelihood_rvm(alpha,beta,pos_ang,phase0,degm):\n",
    "    ang=angfunk(alpha,beta,pok-phase0)+numpy.radians(pos_ang)\n",
    "    qm=numpy.cos(2*ang)\n",
    "    um=numpy.sin(2*ang)\n",
    "    s=numpy.sum(numpy.log(1+0.5*modfok*degm*(qok*qm+uok*um)))\n",
    "    return s\n",
    "\n",
    "RVMres=minimize(lambda x: -likelihood_rvm(x[0],x[1],x[2],x[3],numpy.exp(-x[4]*x[4])), x0=[45,45,30,0.5,0.5],method='Nelder-Mead')\n",
    "print('Solution Rotating Vector Model:\\n')\n",
    "print(' alpha =  %8.3f\\n beta = %10.3f\\n pos_ang = %6.3f\\n phase0 = %7.3f\\n degm = %9.3f'  % (RVMres.x[0], RVMres.x[1], RVMres.x[2], RVMres.x[3], RVMres.x[4]))"
   ]
  },
  {
   "cell_type": "markdown",
   "metadata": {},
   "source": [
    "## Unbinned analysis using spectro-polarimetric model of Caiazzo\n",
    "Load model and for simplicity we calculate predicted number of event (npred) asuming equal RMF for all three dectectors units "
   ]
  },
  {
   "cell_type": "code",
   "execution_count": 8,
   "metadata": {},
   "outputs": [
    {
     "name": "stdout",
     "output_type": "stream",
     "text": [
      "False\n",
      "False\n"
     ]
    }
   ],
   "source": [
    "import sys\n",
    "from ixpe_file_class_v2 import ixpe_file_class\n",
    "from scipy.integrate import simps\n",
    "from spline import xInterpolatedBivariateSpline #from ixpeobssim (Baldini+2022)\n",
    "\n",
    "model=ixpe_file_class('Polarization_wQED_7k_2c.txt',alpha=50,beta=42,\n",
    "                      normflux='HerX1_NuSTAR.txt',intensity_energy_units=False,enerlist=effae)\n",
    "\n",
    "SIM_DURATION = 100000.\n",
    "cnts=numpy.interp(effae,model.enerlist,numpy.mean(model.flux,axis=-1))*(effa_du1+effa_du2+effa_du3)\n",
    "ratepred=simps(cnts,effae)\n",
    "npred=SIM_DURATION*ratepred\n",
    "cnt_conv=numpy.dot(matrixt1,cnts)"
   ]
  },
  {
   "cell_type": "markdown",
   "metadata": {},
   "source": [
    "#### Unbinned analysis using spectro-polarimetric model, accounting for response functions of all three detectors: energy dispersion, effective area, and modulation factor "
   ]
  },
  {
   "cell_type": "code",
   "execution_count": 9,
   "metadata": {},
   "outputs": [],
   "source": [
    "\n",
    "def likelihoodspin(alpha,beta,angshift,deltadeg):\n",
    "    #print('%0.5f %0.5f %0.5f %0.5f' % (alpha,beta,angshift,deltadeg))\n",
    "    model.reset_geometry(alpha,beta)\n",
    "    flux_conv=numpy.dot(matrixt1,model.flux)\n",
    "    fdulist = []\n",
    "    for matrixtn, arfdu, funmodf, qdu, udu, edu, pdu, phadu in zip(matrixtlist,  arflist, modflist, qdulist, udulist, edulist, pdulist, phadulist):\n",
    "        flux_conv=numpy.dot(matrixtn,numpy.transpose(arfdu*numpy.transpose(model.flux)))\n",
    "        u_data=numpy.dot(matrixtn, numpy.transpose((arfdu*funmodf)*numpy.transpose(model.flux*model.u_data*model.pol_deg_data)))\n",
    "        q_data=numpy.dot(matrixtn, numpy.transpose((arfdu*funmodf)*numpy.transpose(model.flux*model.q_data*model.pol_deg_data)))\n",
    "        u_data/=flux_conv\n",
    "        q_data/=flux_conv\n",
    "        u_spline = xInterpolatedBivariateSpline(pha_list, model.phase, u_data,kx=3, ky=3)\n",
    "        q_spline = xInterpolatedBivariateSpline(pha_list, model.phase, q_data,kx=3, ky=3)\n",
    "        um=u_spline(phadu,pdu)\n",
    "        qm=q_spline(phadu,pdu)\n",
    "\n",
    "        pcos2d = (qdu*qm + udu*um)\n",
    "        psin2d = (qdu*um - udu*qm)       \n",
    "        pcos2tot = pcos2d*numpy.cos(2*numpy.radians(angshift)) - psin2d*numpy.sin(2*numpy.radians(angshift))\n",
    "\n",
    "        fdu= 1 + 0.5*(1.+deltadeg)*pcos2tot\n",
    "\n",
    "        fdulist=numpy.concatenate((fdulist,fdu))\n",
    "\n",
    "    return numpy.sum(numpy.log(fdulist))-npred"
   ]
  },
  {
   "cell_type": "markdown",
   "metadata": {},
   "source": [
    "#### Minimization of likelihood function including energy dispersion may take a few minutes"
   ]
  },
  {
   "cell_type": "code",
   "execution_count": 10,
   "metadata": {},
   "outputs": [
    {
     "name": "stdout",
     "output_type": "stream",
     "text": [
      "Solution Spectro-polarimetric Model:\n",
      "\n",
      " alpha =    51.087\n",
      " beta =     42.901\n",
      " angshift = 0.050\n",
      " deltadeg = 0.123\n"
     ]
    }
   ],
   "source": [
    "from scipy.optimize import minimize\n",
    "\n",
    "MDLres=minimize((lambda x: -likelihoodspin(x[0],x[1],x[2],x[3])), x0=[51,41,0.1,0.1],method='Nelder-Mead')\n",
    "print('Solution Spectro-polarimetric Model:\\n')\n",
    "print(' alpha =  %8.3f\\n beta = %10.3f\\n angshift = %.3f\\n deltadeg = %.3f'  % (MDLres.x[0], MDLres.x[1], MDLres.x[2], MDLres.x[3]))"
   ]
  },
  {
   "cell_type": "code",
   "execution_count": null,
   "metadata": {},
   "outputs": [],
   "source": []
  },
  {
   "cell_type": "code",
   "execution_count": null,
   "metadata": {},
   "outputs": [],
   "source": []
  }
 ],
 "metadata": {
  "kernelspec": {
   "display_name": "Python 3.8",
   "language": "python",
   "name": "python3"
  },
  "language_info": {
   "codemirror_mode": {
    "name": "ipython",
    "version": 3
   },
   "file_extension": ".py",
   "mimetype": "text/x-python",
   "name": "python",
   "nbconvert_exporter": "python",
   "pygments_lexer": "ipython3",
   "version": "3.8.2"
  }
 },
 "nbformat": 4,
 "nbformat_minor": 4
}
